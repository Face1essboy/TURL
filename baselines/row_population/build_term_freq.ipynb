{
 "cells": [
  {
   "cell_type": "code",
   "execution_count": 1,
   "metadata": {},
   "outputs": [],
   "source": [
    "import json\n",
    "import numpy as np\n",
    "import collections\n",
    "import copy\n",
    "from os import listdir\n",
    "from os.path import isfile, join"
   ]
  },
  {
   "cell_type": "code",
   "execution_count": 2,
   "metadata": {},
   "outputs": [],
   "source": [
    "import findspark\n",
    "findspark.init()\n",
    "from pyspark import SparkContext\n",
    "import pyspark\n",
    "conf = pyspark.SparkConf().setAll([('spark.executor.memory', '8g'), ('spark.executor.cores', '2'),('spark.executor.instances','7'), ('spark.driver.memory','32g'), ('spark.driver.maxResultSize','10g')])\n",
    "sc = SparkContext(conf=conf)"
   ]
  },
  {
   "cell_type": "code",
   "execution_count": 3,
   "metadata": {},
   "outputs": [],
   "source": [
    "from pyspark.sql import functions as F\n",
    "from pyspark.sql.types import ArrayType, FloatType, StringType\n",
    "from pyspark.sql.types import Row\n",
    "from pyspark.sql import SparkSession\n",
    "spark = SparkSession(sc)"
   ]
  },
  {
   "cell_type": "code",
   "execution_count": 4,
   "metadata": {},
   "outputs": [],
   "source": [
    "def convert_ndarray_back(x):\n",
    "    x['entityCell'] = np.array(x['entityCell'])\n",
    "    return x\n",
    "data_dir = \"../../data/\"\n",
    "train_tables = sc.textFile(data_dir+\"train_tables.jsonl\").map(lambda x:convert_ndarray_back(json.loads(x.strip())))"
   ]
  },
  {
   "cell_type": "code",
   "execution_count": 45,
   "metadata": {},
   "outputs": [],
   "source": [
    "def get_core_entity_caption_label(x):\n",
    "    core_entities = set()\n",
    "    for i,j in zip(*x['entityCell'].nonzero()):\n",
    "        if j==0 and j in x['entityColumn']:\n",
    "            core_entities.add(x['tableData'][i][j]['surfaceLinks'][0]['target']['id'])\n",
    "    return list(core_entities), x[\"_id\"], x['tableCaption'], x[\"processed_tableHeaders\"][0]"
   ]
  },
  {
   "cell_type": "code",
   "execution_count": 16,
   "metadata": {},
   "outputs": [],
   "source": [
    "from operator import add"
   ]
  },
  {
   "cell_type": "code",
   "execution_count": 46,
   "metadata": {},
   "outputs": [],
   "source": [
    "table_rdd = train_tables.map(get_core_entity_caption_label)\n",
    "entity_rdd = table_rdd.flatMap(lambda x:[(z,x[1],x[2],x[3]) for z in x[0]])"
   ]
  },
  {
   "cell_type": "code",
   "execution_count": 43,
   "metadata": {},
   "outputs": [],
   "source": [
    "from pyspark.ml.feature import Tokenizer, StopWordsRemover"
   ]
  },
  {
   "cell_type": "code",
   "execution_count": 47,
   "metadata": {},
   "outputs": [],
   "source": [
    "table_df = spark.createDataFrame(table_rdd,[\"entities\",\"table_id\",\"caption\",\"header\"])"
   ]
  },
  {
   "cell_type": "code",
   "execution_count": 54,
   "metadata": {},
   "outputs": [],
   "source": [
    "caption_tokenizer = Tokenizer(inputCol=\"caption\", outputCol=\"caption_term\")\n",
    "header_tokenizer = Tokenizer(inputCol=\"header\", outputCol=\"header_term\")\n",
    "list_stopwords = StopWordsRemover.loadDefaultStopWords(\"english\")\n",
    "caption_remover = StopWordsRemover(inputCol=\"caption_term\", outputCol=\"caption_term_cleaned\")\n",
    "header_remover = StopWordsRemover(inputCol=\"header_term\", outputCol=\"header_term_cleaned\")"
   ]
  },
  {
   "cell_type": "code",
   "execution_count": 87,
   "metadata": {},
   "outputs": [
    {
     "data": {
      "text/plain": [
       "['i',\n",
       " 'me',\n",
       " 'my',\n",
       " 'myself',\n",
       " 'we',\n",
       " 'our',\n",
       " 'ours',\n",
       " 'ourselves',\n",
       " 'you',\n",
       " 'your',\n",
       " 'yours',\n",
       " 'yourself',\n",
       " 'yourselves',\n",
       " 'he',\n",
       " 'him',\n",
       " 'his',\n",
       " 'himself',\n",
       " 'she',\n",
       " 'her',\n",
       " 'hers',\n",
       " 'herself',\n",
       " 'it',\n",
       " 'its',\n",
       " 'itself',\n",
       " 'they',\n",
       " 'them',\n",
       " 'their',\n",
       " 'theirs',\n",
       " 'themselves',\n",
       " 'what',\n",
       " 'which',\n",
       " 'who',\n",
       " 'whom',\n",
       " 'this',\n",
       " 'that',\n",
       " 'these',\n",
       " 'those',\n",
       " 'am',\n",
       " 'is',\n",
       " 'are',\n",
       " 'was',\n",
       " 'were',\n",
       " 'be',\n",
       " 'been',\n",
       " 'being',\n",
       " 'have',\n",
       " 'has',\n",
       " 'had',\n",
       " 'having',\n",
       " 'do',\n",
       " 'does',\n",
       " 'did',\n",
       " 'doing',\n",
       " 'a',\n",
       " 'an',\n",
       " 'the',\n",
       " 'and',\n",
       " 'but',\n",
       " 'if',\n",
       " 'or',\n",
       " 'because',\n",
       " 'as',\n",
       " 'until',\n",
       " 'while',\n",
       " 'of',\n",
       " 'at',\n",
       " 'by',\n",
       " 'for',\n",
       " 'with',\n",
       " 'about',\n",
       " 'against',\n",
       " 'between',\n",
       " 'into',\n",
       " 'through',\n",
       " 'during',\n",
       " 'before',\n",
       " 'after',\n",
       " 'above',\n",
       " 'below',\n",
       " 'to',\n",
       " 'from',\n",
       " 'up',\n",
       " 'down',\n",
       " 'in',\n",
       " 'out',\n",
       " 'on',\n",
       " 'off',\n",
       " 'over',\n",
       " 'under',\n",
       " 'again',\n",
       " 'further',\n",
       " 'then',\n",
       " 'once',\n",
       " 'here',\n",
       " 'there',\n",
       " 'when',\n",
       " 'where',\n",
       " 'why',\n",
       " 'how',\n",
       " 'all',\n",
       " 'any',\n",
       " 'both',\n",
       " 'each',\n",
       " 'few',\n",
       " 'more',\n",
       " 'most',\n",
       " 'other',\n",
       " 'some',\n",
       " 'such',\n",
       " 'no',\n",
       " 'nor',\n",
       " 'not',\n",
       " 'only',\n",
       " 'own',\n",
       " 'same',\n",
       " 'so',\n",
       " 'than',\n",
       " 'too',\n",
       " 'very',\n",
       " 's',\n",
       " 't',\n",
       " 'can',\n",
       " 'will',\n",
       " 'just',\n",
       " 'don',\n",
       " 'should',\n",
       " 'now',\n",
       " \"i'll\",\n",
       " \"you'll\",\n",
       " \"he'll\",\n",
       " \"she'll\",\n",
       " \"we'll\",\n",
       " \"they'll\",\n",
       " \"i'd\",\n",
       " \"you'd\",\n",
       " \"he'd\",\n",
       " \"she'd\",\n",
       " \"we'd\",\n",
       " \"they'd\",\n",
       " \"i'm\",\n",
       " \"you're\",\n",
       " \"he's\",\n",
       " \"she's\",\n",
       " \"it's\",\n",
       " \"we're\",\n",
       " \"they're\",\n",
       " \"i've\",\n",
       " \"we've\",\n",
       " \"you've\",\n",
       " \"they've\",\n",
       " \"isn't\",\n",
       " \"aren't\",\n",
       " \"wasn't\",\n",
       " \"weren't\",\n",
       " \"haven't\",\n",
       " \"hasn't\",\n",
       " \"hadn't\",\n",
       " \"don't\",\n",
       " \"doesn't\",\n",
       " \"didn't\",\n",
       " \"won't\",\n",
       " \"wouldn't\",\n",
       " \"shan't\",\n",
       " \"shouldn't\",\n",
       " \"mustn't\",\n",
       " \"can't\",\n",
       " \"couldn't\",\n",
       " 'cannot',\n",
       " 'could',\n",
       " \"here's\",\n",
       " \"how's\",\n",
       " \"let's\",\n",
       " 'ought',\n",
       " \"that's\",\n",
       " \"there's\",\n",
       " \"what's\",\n",
       " \"when's\",\n",
       " \"where's\",\n",
       " \"who's\",\n",
       " \"why's\",\n",
       " 'would']"
      ]
     },
     "execution_count": 87,
     "metadata": {},
     "output_type": "execute_result"
    }
   ],
   "source": [
    "list_stopwords"
   ]
  },
  {
   "cell_type": "code",
   "execution_count": 77,
   "metadata": {},
   "outputs": [],
   "source": [
    "table_df_tokenizered = header_remover.transform(\\\n",
    "                            header_tokenizer.transform(\\\n",
    "                                caption_remover.transform(\\\n",
    "                                    caption_tokenizer.transform(table_df)))).select(\"entities\",\"table_id\",\"caption_term_cleaned\",\"header_term_cleaned\",\"header\")"
   ]
  },
  {
   "cell_type": "code",
   "execution_count": 78,
   "metadata": {},
   "outputs": [
    {
     "name": "stdout",
     "output_type": "stream",
     "text": [
      "+--------------------+----------+--------------------+--------------------+--------------------+\n",
      "|            entities|  table_id|caption_term_cleaned| header_term_cleaned|              header|\n",
      "+--------------------+----------+--------------------+--------------------+--------------------+\n",
      "|          [27282555]|27281853-1|        [references]| [military, offices]|    military offices|\n",
      "|   [450099, 1702543]|   27282-1|[main, office, ho...|            [office]|              office|\n",
      "|  [23867939, 429187]|27282227-1|   [primate, poland]|[catholic, church...|catholic church t...|\n",
      "|          [27283377]|27282555-1|        [references]| [military, offices]|    military offices|\n",
      "|          [22583176]|27282731-3|   [external, links]|      [achievements]|        achievements|\n",
      "|[2086865, 2172188...|27283077-1|     [qualification]|           [country]|             country|\n",
      "|[1019331, 4019429...|27283077-2|            [venues]|        [gothenburg]|          gothenburg|\n",
      "|           [4061083]|27283077-9|            [awards]|      [golden, boot]|         golden boot|\n",
      "|          [27291646]|27283214-1|             [works]| [diplomatic, posts]|    diplomatic posts|\n",
      "|          [27284604]|27283377-1|        [references]| [military, offices]|    military offices|\n",
      "|          [27310185]|27283435-1|        [references]|           [records]|             records|\n",
      "|           [3660234]|27283506-1|        [references]|   [events, tenants]|  events and tenants|\n",
      "|            [182551]|27283689-1|   [external, links]|[parliament, unit...|parliament of the...|\n",
      "|[59590, 4688842, ...| 2728377-1|           [results]|         [candidate]|           candidate|\n",
      "|[25738477, 32724581]|27283796-1|[television, appe...|  [television, show]|     television show|\n",
      "|[2026115, 612068,...|27283867-1|[casting, charact...|             [actor]|               actor|\n",
      "|[2612640, 4567366...|27283877-1|    [studio, albums]|             [title]|               title|\n",
      "|           [8133345]|27283877-2|       [live, album]|             [title]|               title|\n",
      "|             [59590]| 2728409-1|        [references]|[political, offices]|   political offices|\n",
      "|            [672771]|27284211-1|   [external, links]|[government, offi...|  government offices|\n",
      "+--------------------+----------+--------------------+--------------------+--------------------+\n",
      "only showing top 20 rows\n",
      "\n"
     ]
    }
   ],
   "source": [
    "table_df_tokenizered.show()"
   ]
  },
  {
   "cell_type": "code",
   "execution_count": 79,
   "metadata": {},
   "outputs": [],
   "source": [
    "caption_term_freq = table_df_tokenizered.select(\"caption_term_cleaned\").rdd \\\n",
    "                        .flatMap(lambda x:[(z,1) for z in x[\"caption_term_cleaned\"]])\\\n",
    "                        .reduceByKey(add).collect()\n",
    "header_term_freq = table_df_tokenizered.select(\"header_term_cleaned\").rdd \\\n",
    "                        .flatMap(lambda x:[(z,1) for z in x[\"header_term_cleaned\"]])\\\n",
    "                        .reduceByKey(add).collect()\n",
    "header_freq = table_df_tokenizered.select(\"header\").rdd \\\n",
    "                        .map(lambda x:(x[\"header\"],1))\\\n",
    "                        .reduceByKey(add).collect()"
   ]
  },
  {
   "cell_type": "code",
   "execution_count": 80,
   "metadata": {},
   "outputs": [
    {
     "data": {
      "text/plain": [
       "20415"
      ]
     },
     "execution_count": 80,
     "metadata": {},
     "output_type": "execute_result"
    }
   ],
   "source": [
    "len(header_freq)"
   ]
  },
  {
   "cell_type": "code",
   "execution_count": 81,
   "metadata": {},
   "outputs": [],
   "source": [
    "entity_df = table_df_tokenizered.select(F.explode(\"entities\").alias(\"entity\"), \"table_id\",\"caption_term_cleaned\",\"header_term_cleaned\",\"header\")"
   ]
  },
  {
   "cell_type": "code",
   "execution_count": 82,
   "metadata": {},
   "outputs": [],
   "source": [
    "entity_caption_term_freq = entity_df.select(\"entity\", \"caption_term_cleaned\").rdd \\\n",
    "                                .flatMap(lambda x:[((x[\"entity\"],z),1) for z in x[\"caption_term_cleaned\"]])\\\n",
    "                                .reduceByKey(add)\\\n",
    "                                .map(lambda x:(x[0][0], [(x[0][1],x[1])]))\\\n",
    "                                .reduceByKey(add).collect()\n",
    "entity_header_term_freq = entity_df.select(\"entity\", \"header_term_cleaned\").rdd \\\n",
    "                                .flatMap(lambda x:[((x[\"entity\"],z),1) for z in x[\"header_term_cleaned\"]])\\\n",
    "                                .reduceByKey(add)\\\n",
    "                                .map(lambda x:(x[0][0], [(x[0][1],x[1])]))\\\n",
    "                                .reduceByKey(add).collect()\n",
    "entity_header_freq = entity_df.select(\"entity\", \"header\").rdd \\\n",
    "                                .map(lambda x:((x[\"entity\"],x[\"header\"]),1))\\\n",
    "                                .reduceByKey(add)\\\n",
    "                                .map(lambda x:(x[0][0], [(x[0][1],x[1])]))\\\n",
    "                                .reduceByKey(add).collect()"
   ]
  },
  {
   "cell_type": "code",
   "execution_count": 84,
   "metadata": {},
   "outputs": [],
   "source": [
    "entity_tables = entity_df.select(\"entity\",\"table_id\")\\\n",
    "                    .groupBy(\"entity\").agg(F.collect_list(\"table_id\").alias(\"tables\"))\\\n",
    "                    .rdd.map(lambda x:(x['entity'],x['tables'])).collect()"
   ]
  },
  {
   "cell_type": "code",
   "execution_count": 100,
   "metadata": {},
   "outputs": [],
   "source": [
    "import pickle"
   ]
  },
  {
   "cell_type": "code",
   "execution_count": 105,
   "metadata": {},
   "outputs": [],
   "source": [
    "with open(\"../../data/entity_tables.pkl\",\"wb\") as f:\n",
    "    pickle.dump(entity_tables, f)"
   ]
  },
  {
   "cell_type": "code",
   "execution_count": 103,
   "metadata": {},
   "outputs": [],
   "source": [
    "for e in entity_header_freq:\n",
    "    entity_header_freq[e] = [sum([count for _,count in entity_header_freq[e]]),dict(entity_header_freq[e])]\n",
    "\n",
    "with open(\"../../data/entity_header_freq.pkl\",\"wb\") as f:\n",
    "    pickle.dump(entity_header_freq, f)"
   ]
  },
  {
   "cell_type": "code",
   "execution_count": 106,
   "metadata": {},
   "outputs": [],
   "source": [
    "entity_header_term_freq = dict(entity_header_term_freq)\n",
    "for e in entity_header_term_freq:\n",
    "    entity_header_term_freq[e] = [sum([count for _,count in entity_header_term_freq[e]]),dict(entity_header_term_freq[e])]\n",
    "\n",
    "with open(\"../../data/entity_header_term_freq.pkl\",\"wb\") as f:\n",
    "    pickle.dump(entity_header_term_freq, f)"
   ]
  },
  {
   "cell_type": "code",
   "execution_count": 107,
   "metadata": {},
   "outputs": [],
   "source": [
    "entity_caption_term_freq = dict(entity_caption_term_freq)\n",
    "for e in entity_caption_term_freq:\n",
    "    entity_caption_term_freq[e] = [sum([count for _,count in entity_caption_term_freq[e]]),dict(entity_caption_term_freq[e])]\n",
    "\n",
    "with open(\"../../data/entity_caption_term_freq.pkl\",\"wb\") as f:\n",
    "    pickle.dump(entity_caption_term_freq, f)"
   ]
  },
  {
   "cell_type": "code",
   "execution_count": 109,
   "metadata": {},
   "outputs": [],
   "source": [
    "caption_term_freq = dict(caption_term_freq)\n",
    "with open(\"../../data/caption_term_freq.pkl\",\"wb\") as f:\n",
    "    pickle.dump([sum([count for _,count in caption_term_freq.items()]),caption_term_freq], f)\n",
    "    \n",
    "header_term_freq = dict(header_term_freq)\n",
    "with open(\"../../data/header_term_freq.pkl\",\"wb\") as f:\n",
    "    pickle.dump([sum([count for _,count in header_term_freq.items()]),header_term_freq], f)\n",
    "    \n",
    "header_freq = dict(header_freq)\n",
    "with open(\"../../data/header_freq.pkl\",\"wb\") as f:\n",
    "    pickle.dump([sum([count for _,count in header_freq.items()]),header_freq], f)"
   ]
  },
  {
   "cell_type": "code",
   "execution_count": 99,
   "metadata": {},
   "outputs": [],
   "source": [
    "for e in entity_tables:\n",
    "    if len(entity_tables[e]) != sum([count for _,count in entity_header_freq[e]]):\n",
    "        print(e, len(entity_tables[e]), sum([count for _,count in entity_header_freq[e]]))\n",
    "        break"
   ]
  },
  {
   "cell_type": "code",
   "execution_count": 108,
   "metadata": {},
   "outputs": [
    {
     "data": {
      "text/plain": [
       "('references', 35319)"
      ]
     },
     "execution_count": 108,
     "metadata": {},
     "output_type": "execute_result"
    }
   ],
   "source": [
    "caption_term_freq[0]"
   ]
  },
  {
   "cell_type": "code",
   "execution_count": 102,
   "metadata": {},
   "outputs": [
    {
     "data": {
      "text/plain": [
       "[7,\n",
       " {'titles in pretence': 1,\n",
       "  'descendent': 2,\n",
       "  'image': 1,\n",
       "  'political offices': 1,\n",
       "  'name of descendant': 1,\n",
       "  'name': 1}]"
      ]
     },
     "execution_count": 102,
     "metadata": {},
     "output_type": "execute_result"
    }
   ],
   "source": [
    "entity_header_freq[1677]"
   ]
  },
  {
   "cell_type": "code",
   "execution_count": 113,
   "metadata": {},
   "outputs": [
    {
     "data": {
      "text/plain": [
       "[(5839439, '39405618-3', 'Other', 'record name')]"
      ]
     },
     "execution_count": 113,
     "metadata": {},
     "output_type": "execute_result"
    }
   ],
   "source": [
    "entity_rdd.filter(lambda x:x[0]==5839439).take(10)"
   ]
  },
  {
   "cell_type": "code",
   "execution_count": 1,
   "metadata": {},
   "outputs": [],
   "source": [
    "from tqdm import tqdm_notebook"
   ]
  },
  {
   "cell_type": "code",
   "execution_count": null,
   "metadata": {},
   "outputs": [],
   "source": []
  }
 ],
 "metadata": {
  "kernelspec": {
   "display_name": "Python 3",
   "language": "python",
   "name": "python3"
  },
  "language_info": {
   "codemirror_mode": {
    "name": "ipython",
    "version": 3
   },
   "file_extension": ".py",
   "mimetype": "text/x-python",
   "name": "python",
   "nbconvert_exporter": "python",
   "pygments_lexer": "ipython3",
   "version": "3.6.7"
  }
 },
 "nbformat": 4,
 "nbformat_minor": 2
}
